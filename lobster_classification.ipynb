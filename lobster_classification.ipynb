{
 "cells": [
  {
   "cell_type": "code",
   "outputs": [],
   "source": [
    "import torch\n",
    "from PIL import Image\n",
    "import open_clip\n",
    "\n",
    "from matplotlib.pyplot import figure, imshow, axis\n",
    "from matplotlib.image import imread\n",
    "\n",
    "torch.set_printoptions(precision=3, sci_mode=False)"
   ],
   "metadata": {
    "collapsed": false,
    "ExecuteTime": {
     "end_time": "2024-03-27T03:08:42.617608Z",
     "start_time": "2024-03-27T03:08:40.584429Z"
    }
   },
   "id": "d8f355948179877e",
   "execution_count": 3
  },
  {
   "cell_type": "code",
   "outputs": [],
   "source": [
    "def showImagesHorizontally(list_of_files):\n",
    "    fig = figure()\n",
    "    number_of_files = len(list_of_files)\n",
    "    for i in range(number_of_files):\n",
    "        a=fig.add_subplot(1,number_of_files,i+1)\n",
    "        image = imread(list_of_files[i])\n",
    "        # imshow(image, cmap='Greys_r')\n",
    "        imshow(image)\n",
    "        axis('off')"
   ],
   "metadata": {
    "collapsed": false,
    "ExecuteTime": {
     "end_time": "2024-03-27T03:08:42.622608Z",
     "start_time": "2024-03-27T03:08:42.618608Z"
    }
   },
   "id": "9cf62eb4b5ccce31",
   "execution_count": 4
  },
  {
   "cell_type": "markdown",
   "source": [
    "# Load Model"
   ],
   "metadata": {
    "collapsed": false
   },
   "id": "745863dbd0be0b37"
  },
  {
   "cell_type": "code",
   "outputs": [],
   "source": [],
   "metadata": {
    "collapsed": false,
    "ExecuteTime": {
     "end_time": "2024-03-27T03:08:42.626608Z",
     "start_time": "2024-03-27T03:08:42.622608Z"
    }
   },
   "id": "1964b4ebc2e979c",
   "execution_count": 4
  },
  {
   "cell_type": "code",
   "outputs": [
    {
     "data": {
      "text/plain": "['coca_base',\n 'coca_roberta-ViT-B-32',\n 'coca_ViT-B-32',\n 'coca_ViT-L-14',\n 'convnext_base',\n 'convnext_base_w',\n 'convnext_base_w_320',\n 'convnext_large',\n 'convnext_large_d',\n 'convnext_large_d_320',\n 'convnext_small',\n 'convnext_tiny',\n 'convnext_xlarge',\n 'convnext_xxlarge',\n 'convnext_xxlarge_320',\n 'EVA01-g-14',\n 'EVA01-g-14-plus',\n 'EVA02-B-16',\n 'EVA02-E-14',\n 'EVA02-E-14-plus',\n 'EVA02-L-14',\n 'EVA02-L-14-336',\n 'mt5-base-ViT-B-32',\n 'mt5-xl-ViT-H-14',\n 'nllb-clip-base',\n 'nllb-clip-base-siglip',\n 'nllb-clip-large',\n 'nllb-clip-large-siglip',\n 'RN50',\n 'RN50-quickgelu',\n 'RN50x4',\n 'RN50x16',\n 'RN50x64',\n 'RN101',\n 'RN101-quickgelu',\n 'roberta-ViT-B-32',\n 'swin_base_patch4_window7_224',\n 'ViT-B-16',\n 'ViT-B-16-plus',\n 'ViT-B-16-plus-240',\n 'ViT-B-16-quickgelu',\n 'ViT-B-16-SigLIP',\n 'ViT-B-16-SigLIP-256',\n 'ViT-B-16-SigLIP-384',\n 'ViT-B-16-SigLIP-512',\n 'ViT-B-16-SigLIP-i18n-256',\n 'ViT-B-32',\n 'ViT-B-32-256',\n 'ViT-B-32-plus-256',\n 'ViT-B-32-quickgelu',\n 'ViT-bigG-14',\n 'ViT-bigG-14-CLIPA',\n 'ViT-bigG-14-CLIPA-336',\n 'ViT-e-14',\n 'ViT-g-14',\n 'ViT-H-14',\n 'ViT-H-14-378-quickgelu',\n 'ViT-H-14-CLIPA',\n 'ViT-H-14-CLIPA-336',\n 'ViT-H-14-quickgelu',\n 'ViT-H-16',\n 'ViT-L-14',\n 'ViT-L-14-280',\n 'ViT-L-14-336',\n 'ViT-L-14-CLIPA',\n 'ViT-L-14-CLIPA-336',\n 'ViT-L-14-quickgelu',\n 'ViT-L-16',\n 'ViT-L-16-320',\n 'ViT-L-16-SigLIP-256',\n 'ViT-L-16-SigLIP-384',\n 'ViT-M-16',\n 'ViT-M-16-alt',\n 'ViT-M-32',\n 'ViT-M-32-alt',\n 'ViT-S-16',\n 'ViT-S-16-alt',\n 'ViT-S-32',\n 'ViT-S-32-alt',\n 'ViT-SO400M-14-SigLIP',\n 'ViT-SO400M-14-SigLIP-384',\n 'vit_medium_patch16_gap_256',\n 'vit_relpos_medium_patch16_cls_224',\n 'xlm-roberta-base-ViT-B-32',\n 'xlm-roberta-large-ViT-H-14']"
     },
     "execution_count": 5,
     "metadata": {},
     "output_type": "execute_result"
    }
   ],
   "source": [
    "open_clip.list_models()"
   ],
   "metadata": {
    "collapsed": false,
    "ExecuteTime": {
     "end_time": "2024-03-27T03:08:42.633608Z",
     "start_time": "2024-03-27T03:08:42.627608Z"
    }
   },
   "id": "8c227598fc334509",
   "execution_count": 5
  },
  {
   "cell_type": "code",
   "outputs": [],
   "source": [
    "model_b, _, preprocess_b = open_clip.create_model_and_transforms('ViT-B-32', pretrained='laion2b_s34b_b79k')\n",
    "tokenizer_b = open_clip.get_tokenizer('ViT-B-32')"
   ],
   "metadata": {
    "collapsed": false,
    "ExecuteTime": {
     "end_time": "2024-03-27T03:08:43.722608Z",
     "start_time": "2024-03-27T03:08:42.634608Z"
    }
   },
   "id": "48c4607bb3290ee1",
   "execution_count": 6
  },
  {
   "cell_type": "code",
   "outputs": [],
   "source": [
    "model_l, _, preprocess_l = open_clip.create_model_and_transforms('ViT-L-14-336', pretrained='openai')\n",
    "tokenizer_l = open_clip.get_tokenizer('ViT-B-32')"
   ],
   "metadata": {
    "collapsed": false,
    "ExecuteTime": {
     "end_time": "2024-03-27T03:08:46.434010Z",
     "start_time": "2024-03-27T03:08:43.723608Z"
    }
   },
   "id": "d15decfd0ec2d296",
   "execution_count": 7
  },
  {
   "cell_type": "code",
   "outputs": [],
   "source": [
    "text_b = tokenizer_b([\"a diagram\", \"a lobster\", \"a cat\"])\n",
    "text_l = tokenizer_l([\"a diagram\", \"a lobster\", \"a cat\"])"
   ],
   "metadata": {
    "collapsed": false,
    "ExecuteTime": {
     "end_time": "2024-03-27T03:08:46.438011Z",
     "start_time": "2024-03-27T03:08:46.435010Z"
    }
   },
   "id": "f110565a37ea9aaa",
   "execution_count": 8
  },
  {
   "cell_type": "markdown",
   "source": [
    "# Show Images"
   ],
   "metadata": {
    "collapsed": false
   },
   "id": "fa79572c2d6eda92"
  },
  {
   "cell_type": "markdown",
   "source": [
    "<div style=\"display: flex; flex-direction: row;\">\n",
    "    <img src=\"./experiment_data/lobster_grayscale_0.png\" style=\"width: 200px; height: auto; margin-right: 10px;\">\n",
    "    <img src=\"./experiment_data/lobster_blue_0.png\" style=\"width: 200px; height: auto; margin-right: 10px;\">\n",
    "    <img src=\"./experiment_data/lobster_red_0.png\" style=\"width: 200px; height: auto; margin-right: 10px;\">\n",
    "</div>"
   ],
   "metadata": {
    "collapsed": false
   },
   "id": "6f58dd2fcd5b5797"
  },
  {
   "cell_type": "code",
   "outputs": [],
   "source": [
    "lobster_0_files = [\n",
    "    \"./experiment_data/lobster_grayscale_0.png\",\n",
    "    \"./experiment_data/lobster_blue_0.png\",\n",
    "    \"./experiment_data/lobster_red_0.png\"]\n",
    "\n",
    "# showImagesHorizontally(lobster_0_files)"
   ],
   "metadata": {
    "collapsed": false,
    "ExecuteTime": {
     "end_time": "2024-03-27T03:08:46.444010Z",
     "start_time": "2024-03-27T03:08:46.438011Z"
    }
   },
   "id": "30340b8745aa51d0",
   "execution_count": 9
  },
  {
   "cell_type": "code",
   "execution_count": 10,
   "id": "initial_id",
   "metadata": {
    "collapsed": true,
    "ExecuteTime": {
     "end_time": "2024-03-27T03:08:46.715010Z",
     "start_time": "2024-03-27T03:08:46.444010Z"
    }
   },
   "outputs": [
    {
     "name": "stdout",
     "output_type": "stream",
     "text": [
      "Label probs: tensor([[    0.015,     0.985,     0.000]]), Cosine distance: tensor([[0.226, 0.268, 0.169]])\n",
      "Label probs: tensor([[    0.003,     0.997,     0.000]]), Cosine distance: tensor([[0.232, 0.292, 0.157]])\n",
      "Label probs: tensor([[    0.000,     1.000,     0.000]]), Cosine distance: tensor([[0.235, 0.319, 0.164]])\n"
     ]
    }
   ],
   "source": [
    "for filepath in lobster_0_files:\n",
    "    image = preprocess_b(Image.open(filepath)).unsqueeze(0)\n",
    "    with torch.no_grad(), torch.cuda.amp.autocast():\n",
    "        image_features = model_b.encode_image(image)\n",
    "        text_features = model_b.encode_text(text_b)\n",
    "        image_features /= image_features.norm(dim=-1, keepdim=True)\n",
    "        text_features /= text_features.norm(dim=-1, keepdim=True)\n",
    "        \n",
    "        dist = image_features @ text_features.T\n",
    "        text_probs = (100.0 * dist).softmax(dim=-1)\n",
    "    \n",
    "    print(f\"Label probs: {text_probs}, Cosine distance: {dist}\")"
   ]
  },
  {
   "cell_type": "code",
   "outputs": [],
   "source": [],
   "metadata": {
    "collapsed": false,
    "ExecuteTime": {
     "end_time": "2024-03-27T03:08:46.719010Z",
     "start_time": "2024-03-27T03:08:46.715010Z"
    }
   },
   "id": "c24356dfb22db8e",
   "execution_count": 10
  }
 ],
 "metadata": {
  "kernelspec": {
   "display_name": "Python 3",
   "language": "python",
   "name": "python3"
  },
  "language_info": {
   "codemirror_mode": {
    "name": "ipython",
    "version": 2
   },
   "file_extension": ".py",
   "mimetype": "text/x-python",
   "name": "python",
   "nbconvert_exporter": "python",
   "pygments_lexer": "ipython2",
   "version": "2.7.6"
  }
 },
 "nbformat": 4,
 "nbformat_minor": 5
}
