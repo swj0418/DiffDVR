{
 "cells": [
  {
   "cell_type": "code",
   "execution_count": 2,
   "id": "d8f355948179877e",
   "metadata": {
    "ExecuteTime": {
     "end_time": "2024-03-27T03:37:06.354521Z",
     "start_time": "2024-03-27T03:37:06.350521Z"
    },
    "collapsed": false,
    "jupyter": {
     "outputs_hidden": false
    }
   },
   "outputs": [],
   "source": [
    "import torch\n",
    "from PIL import Image\n",
    "import open_clip\n",
    "import ipyplot\n",
    "import matplotlib.pyplot as plt\n",
    "\n",
    "from matplotlib.pyplot import figure, imshow, axis\n",
    "from matplotlib.image import imread\n",
    "\n",
    "torch.set_printoptions(precision=3, sci_mode=False)"
   ]
  },
  {
   "cell_type": "code",
   "execution_count": 3,
   "id": "9cf62eb4b5ccce31",
   "metadata": {
    "ExecuteTime": {
     "end_time": "2024-03-27T03:37:06.372520Z",
     "start_time": "2024-03-27T03:37:06.368520Z"
    },
    "collapsed": false,
    "jupyter": {
     "outputs_hidden": false
    }
   },
   "outputs": [],
   "source": [
    "def showImagesHorizontally(list_of_files):\n",
    "    fig = figure()\n",
    "    number_of_files = len(list_of_files)\n",
    "    for i in range(number_of_files):\n",
    "        a=fig.add_subplot(1,number_of_files,i+1)\n",
    "        image = imread(list_of_files[i])\n",
    "        # imshow(image, cmap='Greys_r')\n",
    "        imshow(image)\n",
    "        axis('off')"
   ]
  },
  {
   "cell_type": "markdown",
   "id": "745863dbd0be0b37",
   "metadata": {
    "collapsed": false,
    "jupyter": {
     "outputs_hidden": false
    }
   },
   "source": [
    "# Load Model"
   ]
  },
  {
   "cell_type": "code",
   "execution_count": null,
   "id": "1964b4ebc2e979c",
   "metadata": {
    "ExecuteTime": {
     "end_time": "2024-03-27T03:37:06.392521Z",
     "start_time": "2024-03-27T03:37:06.390521Z"
    },
    "collapsed": false,
    "jupyter": {
     "outputs_hidden": false
    }
   },
   "outputs": [],
   "source": []
  },
  {
   "cell_type": "code",
   "execution_count": 4,
   "id": "8c227598fc334509",
   "metadata": {
    "ExecuteTime": {
     "end_time": "2024-03-27T03:37:06.400521Z",
     "start_time": "2024-03-27T03:37:06.394521Z"
    },
    "collapsed": false,
    "jupyter": {
     "outputs_hidden": false
    }
   },
   "outputs": [
    {
     "data": {
      "text/plain": [
       "['coca_base',\n",
       " 'coca_roberta-ViT-B-32',\n",
       " 'coca_ViT-B-32',\n",
       " 'coca_ViT-L-14',\n",
       " 'convnext_base',\n",
       " 'convnext_base_w',\n",
       " 'convnext_base_w_320',\n",
       " 'convnext_large',\n",
       " 'convnext_large_d',\n",
       " 'convnext_large_d_320',\n",
       " 'convnext_small',\n",
       " 'convnext_tiny',\n",
       " 'convnext_xlarge',\n",
       " 'convnext_xxlarge',\n",
       " 'convnext_xxlarge_320',\n",
       " 'EVA01-g-14',\n",
       " 'EVA01-g-14-plus',\n",
       " 'EVA02-B-16',\n",
       " 'EVA02-E-14',\n",
       " 'EVA02-E-14-plus',\n",
       " 'EVA02-L-14',\n",
       " 'EVA02-L-14-336',\n",
       " 'mt5-base-ViT-B-32',\n",
       " 'mt5-xl-ViT-H-14',\n",
       " 'nllb-clip-base',\n",
       " 'nllb-clip-base-siglip',\n",
       " 'nllb-clip-large',\n",
       " 'nllb-clip-large-siglip',\n",
       " 'RN50',\n",
       " 'RN50-quickgelu',\n",
       " 'RN50x4',\n",
       " 'RN50x16',\n",
       " 'RN50x64',\n",
       " 'RN101',\n",
       " 'RN101-quickgelu',\n",
       " 'roberta-ViT-B-32',\n",
       " 'swin_base_patch4_window7_224',\n",
       " 'ViT-B-16',\n",
       " 'ViT-B-16-plus',\n",
       " 'ViT-B-16-plus-240',\n",
       " 'ViT-B-16-quickgelu',\n",
       " 'ViT-B-16-SigLIP',\n",
       " 'ViT-B-16-SigLIP-256',\n",
       " 'ViT-B-16-SigLIP-384',\n",
       " 'ViT-B-16-SigLIP-512',\n",
       " 'ViT-B-16-SigLIP-i18n-256',\n",
       " 'ViT-B-32',\n",
       " 'ViT-B-32-256',\n",
       " 'ViT-B-32-plus-256',\n",
       " 'ViT-B-32-quickgelu',\n",
       " 'ViT-bigG-14',\n",
       " 'ViT-bigG-14-CLIPA',\n",
       " 'ViT-bigG-14-CLIPA-336',\n",
       " 'ViT-e-14',\n",
       " 'ViT-g-14',\n",
       " 'ViT-H-14',\n",
       " 'ViT-H-14-378-quickgelu',\n",
       " 'ViT-H-14-CLIPA',\n",
       " 'ViT-H-14-CLIPA-336',\n",
       " 'ViT-H-14-quickgelu',\n",
       " 'ViT-H-16',\n",
       " 'ViT-L-14',\n",
       " 'ViT-L-14-280',\n",
       " 'ViT-L-14-336',\n",
       " 'ViT-L-14-CLIPA',\n",
       " 'ViT-L-14-CLIPA-336',\n",
       " 'ViT-L-14-quickgelu',\n",
       " 'ViT-L-16',\n",
       " 'ViT-L-16-320',\n",
       " 'ViT-L-16-SigLIP-256',\n",
       " 'ViT-L-16-SigLIP-384',\n",
       " 'ViT-M-16',\n",
       " 'ViT-M-16-alt',\n",
       " 'ViT-M-32',\n",
       " 'ViT-M-32-alt',\n",
       " 'ViT-S-16',\n",
       " 'ViT-S-16-alt',\n",
       " 'ViT-S-32',\n",
       " 'ViT-S-32-alt',\n",
       " 'ViT-SO400M-14-SigLIP',\n",
       " 'ViT-SO400M-14-SigLIP-384',\n",
       " 'vit_medium_patch16_gap_256',\n",
       " 'vit_relpos_medium_patch16_cls_224',\n",
       " 'xlm-roberta-base-ViT-B-32',\n",
       " 'xlm-roberta-large-ViT-H-14']"
      ]
     },
     "execution_count": 4,
     "metadata": {},
     "output_type": "execute_result"
    }
   ],
   "source": [
    "open_clip.list_models()"
   ]
  },
  {
   "cell_type": "code",
   "execution_count": 5,
   "id": "48c4607bb3290ee1",
   "metadata": {
    "ExecuteTime": {
     "end_time": "2024-03-27T03:37:08.984138Z",
     "start_time": "2024-03-27T03:37:06.400521Z"
    },
    "collapsed": false,
    "jupyter": {
     "outputs_hidden": false
    }
   },
   "outputs": [],
   "source": [
    "model_b, _, preprocess_b = open_clip.create_model_and_transforms('ViT-B-32', pretrained='laion2b_s34b_b79k')\n",
    "tokenizer_b = open_clip.get_tokenizer('ViT-B-32')"
   ]
  },
  {
   "cell_type": "code",
   "execution_count": 6,
   "id": "d15decfd0ec2d296",
   "metadata": {
    "ExecuteTime": {
     "end_time": "2024-03-27T03:37:11.701137Z",
     "start_time": "2024-03-27T03:37:08.985137Z"
    },
    "collapsed": false,
    "jupyter": {
     "outputs_hidden": false
    }
   },
   "outputs": [],
   "source": [
    "model_l, _, preprocess_l = open_clip.create_model_and_transforms('ViT-L-14-336', pretrained='openai')\n",
    "tokenizer_l = open_clip.get_tokenizer('ViT-B-32')"
   ]
  },
  {
   "cell_type": "code",
   "execution_count": 7,
   "id": "f110565a37ea9aaa",
   "metadata": {
    "ExecuteTime": {
     "end_time": "2024-03-27T03:37:11.707137Z",
     "start_time": "2024-03-27T03:37:11.702137Z"
    },
    "collapsed": false,
    "jupyter": {
     "outputs_hidden": false
    }
   },
   "outputs": [],
   "source": [
    "text_b = tokenizer_b([\"a diagram\", \"a lobster\", \"a cat\"])\n",
    "text_l = tokenizer_l([\"a diagram\", \"a lobster\", \"a cat\"])"
   ]
  },
  {
   "cell_type": "markdown",
   "id": "fa79572c2d6eda92",
   "metadata": {
    "collapsed": false,
    "jupyter": {
     "outputs_hidden": false
    }
   },
   "source": [
    "# Show Images"
   ]
  },
  {
   "cell_type": "markdown",
   "id": "6f58dd2fcd5b5797",
   "metadata": {
    "collapsed": false,
    "jupyter": {
     "outputs_hidden": false
    }
   },
   "source": [
    "<div style=\"display: flex; flex-direction: row;\">\n",
    "    <img src=\"./experiment_data/lobster_grayscale_0.png\" style=\"width: 200px; height: auto; margin-right: 10px;\">\n",
    "    <img src=\"./experiment_data/lobster_blue_0.png\" style=\"width: 200px; height: auto; margin-right: 10px;\">\n",
    "    <img src=\"./experiment_data/lobster_red_0.png\" style=\"width: 200px; height: auto; margin-right: 10px;\">\n",
    "</div>"
   ]
  },
  {
   "cell_type": "code",
   "execution_count": 8,
   "id": "30340b8745aa51d0",
   "metadata": {
    "ExecuteTime": {
     "end_time": "2024-03-27T03:37:11.712137Z",
     "start_time": "2024-03-27T03:37:11.708137Z"
    },
    "collapsed": false,
    "jupyter": {
     "outputs_hidden": false
    }
   },
   "outputs": [],
   "source": [
    "lobster_0_files = [\n",
    "    \"./experiment_data/lobster_grayscale_0.png\",\n",
    "    \"./experiment_data/lobster_blue_0.png\",\n",
    "    \"./experiment_data/lobster_red_0.png\"\n",
    "]\n",
    "\n",
    "lobster_1_files = [\n",
    "    \"./experiment_data/lobster_grayscale_1.png\",\n",
    "    \"./experiment_data/lobster_blue_1.png\",\n",
    "    \"./experiment_data/lobster_red_1.png\"\n",
    "]\n",
    "\n",
    "lobster_2_files = [\n",
    "    \"./experiment_data/lobster_grayscale_2.png\",\n",
    "    \"./experiment_data/lobster_blue_2.png\",\n",
    "    \"./experiment_data/lobster_red_2.png\"\n",
    "]\n",
    "\n",
    "# showImagesHorizontally(lobster_0_files)"
   ]
  },
  {
   "cell_type": "markdown",
   "id": "212bfc737f603e3",
   "metadata": {
    "collapsed": false,
    "jupyter": {
     "outputs_hidden": false
    }
   },
   "source": [
    "# Lobster (Top)"
   ]
  },
  {
   "cell_type": "code",
   "execution_count": 9,
   "id": "3c877f8a49f5f260",
   "metadata": {
    "ExecuteTime": {
     "end_time": "2024-03-27T03:37:11.718137Z",
     "start_time": "2024-03-27T03:37:11.713139Z"
    },
    "collapsed": false,
    "jupyter": {
     "outputs_hidden": false
    }
   },
   "outputs": [
    {
     "data": {
      "text/html": [
       "\n",
       "    <style>\n",
       "        #ipyplot-html-viewer-toggle-SPNZLzbyFg2wjHTaqNc8eV {\n",
       "            position: absolute;\n",
       "            top: -9999px;\n",
       "            left: -9999px;\n",
       "            visibility: hidden;\n",
       "        }\n",
       "\n",
       "        #ipyplot-html-viewer-label-SPNZLzbyFg2wjHTaqNc8eV { \n",
       "            position: relative;\n",
       "            display: inline-block;\n",
       "            cursor: pointer;\n",
       "            color: blue;\n",
       "            text-decoration: underline;\n",
       "        }\n",
       "\n",
       "        #ipyplot-html-viewer-textarea-SPNZLzbyFg2wjHTaqNc8eV {\n",
       "            background: lightgrey;\n",
       "            width: 100%;\n",
       "            height: 0px;\n",
       "            display: none;\n",
       "        }\n",
       "\n",
       "        #ipyplot-html-viewer-toggle-SPNZLzbyFg2wjHTaqNc8eV:checked ~ #ipyplot-html-viewer-textarea-SPNZLzbyFg2wjHTaqNc8eV {\n",
       "            height: 200px;\n",
       "            display: block;\n",
       "        }\n",
       "\n",
       "        #ipyplot-html-viewer-toggle-SPNZLzbyFg2wjHTaqNc8eV:checked + #ipyplot-html-viewer-label-SPNZLzbyFg2wjHTaqNc8eV:after {\n",
       "            content: \"hide html\";\n",
       "            position: absolute;\n",
       "            top: 0;\n",
       "            left: 0;\n",
       "            right: 0;\n",
       "            bottom: 0;\n",
       "            background: white;\n",
       "            cursor: pointer;\n",
       "            color: blue;\n",
       "            text-decoration: underline;\n",
       "        }\n",
       "    </style>\n",
       "    <div>\n",
       "        <input type=\"checkbox\" id=\"ipyplot-html-viewer-toggle-SPNZLzbyFg2wjHTaqNc8eV\">\n",
       "        <label id=\"ipyplot-html-viewer-label-SPNZLzbyFg2wjHTaqNc8eV\" for=\"ipyplot-html-viewer-toggle-SPNZLzbyFg2wjHTaqNc8eV\">show html</label>\n",
       "        <textarea id=\"ipyplot-html-viewer-textarea-SPNZLzbyFg2wjHTaqNc8eV\" readonly>\n",
       "            \n",
       "        <style>\n",
       "        #ipyplot-imgs-container-div-nuirGxgWJLtwVkfYsUeddK {\n",
       "            width: 100%;\n",
       "            height: 100%;\n",
       "            margin: 0%;\n",
       "            overflow: auto;\n",
       "            position: relative;\n",
       "            overflow-y: scroll;\n",
       "        }\n",
       "\n",
       "        div.ipyplot-placeholder-div-nuirGxgWJLtwVkfYsUeddK {\n",
       "            width: 250px;\n",
       "            display: inline-block;\n",
       "            margin: 3px;\n",
       "            position: relative;\n",
       "        }\n",
       "\n",
       "        div.ipyplot-content-div-nuirGxgWJLtwVkfYsUeddK {\n",
       "            width: 250px;\n",
       "            background: white;\n",
       "            display: inline-block;\n",
       "            vertical-align: top;\n",
       "            text-align: center;\n",
       "            position: relative;\n",
       "            border: 2px solid #ddd;\n",
       "            top: 0;\n",
       "            left: 0;\n",
       "        }\n",
       "\n",
       "        div.ipyplot-content-div-nuirGxgWJLtwVkfYsUeddK span.ipyplot-img-close {\n",
       "            display: none;\n",
       "        }\n",
       "\n",
       "        div.ipyplot-content-div-nuirGxgWJLtwVkfYsUeddK span {\n",
       "            width: 100%;\n",
       "            height: 100%;\n",
       "            position: absolute;\n",
       "            top: 0;\n",
       "            left: 0;\n",
       "        }\n",
       "\n",
       "        div.ipyplot-content-div-nuirGxgWJLtwVkfYsUeddK img {\n",
       "            width: 250px;\n",
       "        }\n",
       "\n",
       "        div.ipyplot-content-div-nuirGxgWJLtwVkfYsUeddK span.ipyplot-img-close:hover {\n",
       "            cursor: zoom-out;\n",
       "        }\n",
       "        div.ipyplot-content-div-nuirGxgWJLtwVkfYsUeddK span.ipyplot-img-expand:hover {\n",
       "            cursor: zoom-in;\n",
       "        }\n",
       "\n",
       "        div[id^=ipyplot-content-div-nuirGxgWJLtwVkfYsUeddK]:target {\n",
       "            transform: scale(2.5);\n",
       "            transform-origin: left top;\n",
       "            z-index: 5000;\n",
       "            top: 0;\n",
       "            left: 0;\n",
       "            position: absolute;\n",
       "        }\n",
       "\n",
       "        div[id^=ipyplot-content-div-nuirGxgWJLtwVkfYsUeddK]:target span.ipyplot-img-close {\n",
       "            display: block;\n",
       "        }\n",
       "\n",
       "        div[id^=ipyplot-content-div-nuirGxgWJLtwVkfYsUeddK]:target span.ipyplot-img-expand {\n",
       "            display: none;\n",
       "        }\n",
       "        </style>\n",
       "    <div id=\"ipyplot-imgs-container-div-nuirGxgWJLtwVkfYsUeddK\">\n",
       "    <div class=\"ipyplot-placeholder-div-nuirGxgWJLtwVkfYsUeddK\">\n",
       "        <div id=\"ipyplot-content-div-nuirGxgWJLtwVkfYsUeddK-nRfXnSqLD4DJKwRpBwpQjH\" class=\"ipyplot-content-div-nuirGxgWJLtwVkfYsUeddK\">\n",
       "            <h4 style=\"font-size: 12px; word-wrap: break-word;\">0</h4>\n",
       "            <h4 style=\"font-size: 9px; padding-left: 10px; padding-right: 10px; width: 95%; word-wrap: break-word; white-space: normal;\">experiment_data\\lobster_grayscale_0.png</h4><img src=\"experiment_data\\lobster_grayscale_0.png\"/>\n",
       "            <a href=\"#!\">\n",
       "                <span class=\"ipyplot-img-close\"/>\n",
       "            </a>\n",
       "            <a href=\"#ipyplot-content-div-nuirGxgWJLtwVkfYsUeddK-nRfXnSqLD4DJKwRpBwpQjH\">\n",
       "                <span class=\"ipyplot-img-expand\"/>\n",
       "            </a>\n",
       "        </div>\n",
       "    </div>\n",
       "    \n",
       "    <div class=\"ipyplot-placeholder-div-nuirGxgWJLtwVkfYsUeddK\">\n",
       "        <div id=\"ipyplot-content-div-nuirGxgWJLtwVkfYsUeddK-ktq4rEwwyAvDQvKLkK23CM\" class=\"ipyplot-content-div-nuirGxgWJLtwVkfYsUeddK\">\n",
       "            <h4 style=\"font-size: 12px; word-wrap: break-word;\">1</h4>\n",
       "            <h4 style=\"font-size: 9px; padding-left: 10px; padding-right: 10px; width: 95%; word-wrap: break-word; white-space: normal;\">experiment_data\\lobster_blue_0.png</h4><img src=\"experiment_data\\lobster_blue_0.png\"/>\n",
       "            <a href=\"#!\">\n",
       "                <span class=\"ipyplot-img-close\"/>\n",
       "            </a>\n",
       "            <a href=\"#ipyplot-content-div-nuirGxgWJLtwVkfYsUeddK-ktq4rEwwyAvDQvKLkK23CM\">\n",
       "                <span class=\"ipyplot-img-expand\"/>\n",
       "            </a>\n",
       "        </div>\n",
       "    </div>\n",
       "    \n",
       "    <div class=\"ipyplot-placeholder-div-nuirGxgWJLtwVkfYsUeddK\">\n",
       "        <div id=\"ipyplot-content-div-nuirGxgWJLtwVkfYsUeddK-5XKFrUUrwvHsboo43RDawp\" class=\"ipyplot-content-div-nuirGxgWJLtwVkfYsUeddK\">\n",
       "            <h4 style=\"font-size: 12px; word-wrap: break-word;\">2</h4>\n",
       "            <h4 style=\"font-size: 9px; padding-left: 10px; padding-right: 10px; width: 95%; word-wrap: break-word; white-space: normal;\">experiment_data\\lobster_red_0.png</h4><img src=\"experiment_data\\lobster_red_0.png\"/>\n",
       "            <a href=\"#!\">\n",
       "                <span class=\"ipyplot-img-close\"/>\n",
       "            </a>\n",
       "            <a href=\"#ipyplot-content-div-nuirGxgWJLtwVkfYsUeddK-5XKFrUUrwvHsboo43RDawp\">\n",
       "                <span class=\"ipyplot-img-expand\"/>\n",
       "            </a>\n",
       "        </div>\n",
       "    </div>\n",
       "    </div>\n",
       "        </textarea>\n",
       "    </div>\n",
       "    "
      ],
      "text/plain": [
       "<IPython.core.display.HTML object>"
      ]
     },
     "metadata": {},
     "output_type": "display_data"
    },
    {
     "data": {
      "text/html": [
       "\n",
       "        <style>\n",
       "        #ipyplot-imgs-container-div-nuirGxgWJLtwVkfYsUeddK {\n",
       "            width: 100%;\n",
       "            height: 100%;\n",
       "            margin: 0%;\n",
       "            overflow: auto;\n",
       "            position: relative;\n",
       "            overflow-y: scroll;\n",
       "        }\n",
       "\n",
       "        div.ipyplot-placeholder-div-nuirGxgWJLtwVkfYsUeddK {\n",
       "            width: 250px;\n",
       "            display: inline-block;\n",
       "            margin: 3px;\n",
       "            position: relative;\n",
       "        }\n",
       "\n",
       "        div.ipyplot-content-div-nuirGxgWJLtwVkfYsUeddK {\n",
       "            width: 250px;\n",
       "            background: white;\n",
       "            display: inline-block;\n",
       "            vertical-align: top;\n",
       "            text-align: center;\n",
       "            position: relative;\n",
       "            border: 2px solid #ddd;\n",
       "            top: 0;\n",
       "            left: 0;\n",
       "        }\n",
       "\n",
       "        div.ipyplot-content-div-nuirGxgWJLtwVkfYsUeddK span.ipyplot-img-close {\n",
       "            display: none;\n",
       "        }\n",
       "\n",
       "        div.ipyplot-content-div-nuirGxgWJLtwVkfYsUeddK span {\n",
       "            width: 100%;\n",
       "            height: 100%;\n",
       "            position: absolute;\n",
       "            top: 0;\n",
       "            left: 0;\n",
       "        }\n",
       "\n",
       "        div.ipyplot-content-div-nuirGxgWJLtwVkfYsUeddK img {\n",
       "            width: 250px;\n",
       "        }\n",
       "\n",
       "        div.ipyplot-content-div-nuirGxgWJLtwVkfYsUeddK span.ipyplot-img-close:hover {\n",
       "            cursor: zoom-out;\n",
       "        }\n",
       "        div.ipyplot-content-div-nuirGxgWJLtwVkfYsUeddK span.ipyplot-img-expand:hover {\n",
       "            cursor: zoom-in;\n",
       "        }\n",
       "\n",
       "        div[id^=ipyplot-content-div-nuirGxgWJLtwVkfYsUeddK]:target {\n",
       "            transform: scale(2.5);\n",
       "            transform-origin: left top;\n",
       "            z-index: 5000;\n",
       "            top: 0;\n",
       "            left: 0;\n",
       "            position: absolute;\n",
       "        }\n",
       "\n",
       "        div[id^=ipyplot-content-div-nuirGxgWJLtwVkfYsUeddK]:target span.ipyplot-img-close {\n",
       "            display: block;\n",
       "        }\n",
       "\n",
       "        div[id^=ipyplot-content-div-nuirGxgWJLtwVkfYsUeddK]:target span.ipyplot-img-expand {\n",
       "            display: none;\n",
       "        }\n",
       "        </style>\n",
       "    <div id=\"ipyplot-imgs-container-div-nuirGxgWJLtwVkfYsUeddK\">\n",
       "    <div class=\"ipyplot-placeholder-div-nuirGxgWJLtwVkfYsUeddK\">\n",
       "        <div id=\"ipyplot-content-div-nuirGxgWJLtwVkfYsUeddK-nRfXnSqLD4DJKwRpBwpQjH\" class=\"ipyplot-content-div-nuirGxgWJLtwVkfYsUeddK\">\n",
       "            <h4 style=\"font-size: 12px; word-wrap: break-word;\">0</h4>\n",
       "            <h4 style=\"font-size: 9px; padding-left: 10px; padding-right: 10px; width: 95%; word-wrap: break-word; white-space: normal;\">experiment_data\\lobster_grayscale_0.png</h4><img src=\"experiment_data\\lobster_grayscale_0.png\"/>\n",
       "            <a href=\"#!\">\n",
       "                <span class=\"ipyplot-img-close\"/>\n",
       "            </a>\n",
       "            <a href=\"#ipyplot-content-div-nuirGxgWJLtwVkfYsUeddK-nRfXnSqLD4DJKwRpBwpQjH\">\n",
       "                <span class=\"ipyplot-img-expand\"/>\n",
       "            </a>\n",
       "        </div>\n",
       "    </div>\n",
       "    \n",
       "    <div class=\"ipyplot-placeholder-div-nuirGxgWJLtwVkfYsUeddK\">\n",
       "        <div id=\"ipyplot-content-div-nuirGxgWJLtwVkfYsUeddK-ktq4rEwwyAvDQvKLkK23CM\" class=\"ipyplot-content-div-nuirGxgWJLtwVkfYsUeddK\">\n",
       "            <h4 style=\"font-size: 12px; word-wrap: break-word;\">1</h4>\n",
       "            <h4 style=\"font-size: 9px; padding-left: 10px; padding-right: 10px; width: 95%; word-wrap: break-word; white-space: normal;\">experiment_data\\lobster_blue_0.png</h4><img src=\"experiment_data\\lobster_blue_0.png\"/>\n",
       "            <a href=\"#!\">\n",
       "                <span class=\"ipyplot-img-close\"/>\n",
       "            </a>\n",
       "            <a href=\"#ipyplot-content-div-nuirGxgWJLtwVkfYsUeddK-ktq4rEwwyAvDQvKLkK23CM\">\n",
       "                <span class=\"ipyplot-img-expand\"/>\n",
       "            </a>\n",
       "        </div>\n",
       "    </div>\n",
       "    \n",
       "    <div class=\"ipyplot-placeholder-div-nuirGxgWJLtwVkfYsUeddK\">\n",
       "        <div id=\"ipyplot-content-div-nuirGxgWJLtwVkfYsUeddK-5XKFrUUrwvHsboo43RDawp\" class=\"ipyplot-content-div-nuirGxgWJLtwVkfYsUeddK\">\n",
       "            <h4 style=\"font-size: 12px; word-wrap: break-word;\">2</h4>\n",
       "            <h4 style=\"font-size: 9px; padding-left: 10px; padding-right: 10px; width: 95%; word-wrap: break-word; white-space: normal;\">experiment_data\\lobster_red_0.png</h4><img src=\"experiment_data\\lobster_red_0.png\"/>\n",
       "            <a href=\"#!\">\n",
       "                <span class=\"ipyplot-img-close\"/>\n",
       "            </a>\n",
       "            <a href=\"#ipyplot-content-div-nuirGxgWJLtwVkfYsUeddK-5XKFrUUrwvHsboo43RDawp\">\n",
       "                <span class=\"ipyplot-img-expand\"/>\n",
       "            </a>\n",
       "        </div>\n",
       "    </div>\n",
       "    </div>"
      ],
      "text/plain": [
       "<IPython.core.display.HTML object>"
      ]
     },
     "metadata": {},
     "output_type": "display_data"
    }
   ],
   "source": [
    "ipyplot.plot_images(lobster_0_files, max_images=3, img_width=250)"
   ]
  },
  {
   "cell_type": "markdown",
   "id": "ed3856147d6014cc",
   "metadata": {
    "collapsed": false,
    "jupyter": {
     "outputs_hidden": false
    }
   },
   "source": [
    "# Lobster (Front)"
   ]
  },
  {
   "cell_type": "code",
   "execution_count": 10,
   "id": "e59359a33825892c",
   "metadata": {
    "ExecuteTime": {
     "end_time": "2024-03-27T03:37:11.726136Z",
     "start_time": "2024-03-27T03:37:11.718137Z"
    },
    "collapsed": false,
    "jupyter": {
     "outputs_hidden": false
    }
   },
   "outputs": [
    {
     "data": {
      "text/html": [
       "\n",
       "    <style>\n",
       "        #ipyplot-html-viewer-toggle-o2V74NGVgMGt6JBt6YCXVD {\n",
       "            position: absolute;\n",
       "            top: -9999px;\n",
       "            left: -9999px;\n",
       "            visibility: hidden;\n",
       "        }\n",
       "\n",
       "        #ipyplot-html-viewer-label-o2V74NGVgMGt6JBt6YCXVD { \n",
       "            position: relative;\n",
       "            display: inline-block;\n",
       "            cursor: pointer;\n",
       "            color: blue;\n",
       "            text-decoration: underline;\n",
       "        }\n",
       "\n",
       "        #ipyplot-html-viewer-textarea-o2V74NGVgMGt6JBt6YCXVD {\n",
       "            background: lightgrey;\n",
       "            width: 100%;\n",
       "            height: 0px;\n",
       "            display: none;\n",
       "        }\n",
       "\n",
       "        #ipyplot-html-viewer-toggle-o2V74NGVgMGt6JBt6YCXVD:checked ~ #ipyplot-html-viewer-textarea-o2V74NGVgMGt6JBt6YCXVD {\n",
       "            height: 200px;\n",
       "            display: block;\n",
       "        }\n",
       "\n",
       "        #ipyplot-html-viewer-toggle-o2V74NGVgMGt6JBt6YCXVD:checked + #ipyplot-html-viewer-label-o2V74NGVgMGt6JBt6YCXVD:after {\n",
       "            content: \"hide html\";\n",
       "            position: absolute;\n",
       "            top: 0;\n",
       "            left: 0;\n",
       "            right: 0;\n",
       "            bottom: 0;\n",
       "            background: white;\n",
       "            cursor: pointer;\n",
       "            color: blue;\n",
       "            text-decoration: underline;\n",
       "        }\n",
       "    </style>\n",
       "    <div>\n",
       "        <input type=\"checkbox\" id=\"ipyplot-html-viewer-toggle-o2V74NGVgMGt6JBt6YCXVD\">\n",
       "        <label id=\"ipyplot-html-viewer-label-o2V74NGVgMGt6JBt6YCXVD\" for=\"ipyplot-html-viewer-toggle-o2V74NGVgMGt6JBt6YCXVD\">show html</label>\n",
       "        <textarea id=\"ipyplot-html-viewer-textarea-o2V74NGVgMGt6JBt6YCXVD\" readonly>\n",
       "            \n",
       "        <style>\n",
       "        #ipyplot-imgs-container-div-UhY8oxQyqn5hNd3b6q4BF3 {\n",
       "            width: 100%;\n",
       "            height: 100%;\n",
       "            margin: 0%;\n",
       "            overflow: auto;\n",
       "            position: relative;\n",
       "            overflow-y: scroll;\n",
       "        }\n",
       "\n",
       "        div.ipyplot-placeholder-div-UhY8oxQyqn5hNd3b6q4BF3 {\n",
       "            width: 250px;\n",
       "            display: inline-block;\n",
       "            margin: 3px;\n",
       "            position: relative;\n",
       "        }\n",
       "\n",
       "        div.ipyplot-content-div-UhY8oxQyqn5hNd3b6q4BF3 {\n",
       "            width: 250px;\n",
       "            background: white;\n",
       "            display: inline-block;\n",
       "            vertical-align: top;\n",
       "            text-align: center;\n",
       "            position: relative;\n",
       "            border: 2px solid #ddd;\n",
       "            top: 0;\n",
       "            left: 0;\n",
       "        }\n",
       "\n",
       "        div.ipyplot-content-div-UhY8oxQyqn5hNd3b6q4BF3 span.ipyplot-img-close {\n",
       "            display: none;\n",
       "        }\n",
       "\n",
       "        div.ipyplot-content-div-UhY8oxQyqn5hNd3b6q4BF3 span {\n",
       "            width: 100%;\n",
       "            height: 100%;\n",
       "            position: absolute;\n",
       "            top: 0;\n",
       "            left: 0;\n",
       "        }\n",
       "\n",
       "        div.ipyplot-content-div-UhY8oxQyqn5hNd3b6q4BF3 img {\n",
       "            width: 250px;\n",
       "        }\n",
       "\n",
       "        div.ipyplot-content-div-UhY8oxQyqn5hNd3b6q4BF3 span.ipyplot-img-close:hover {\n",
       "            cursor: zoom-out;\n",
       "        }\n",
       "        div.ipyplot-content-div-UhY8oxQyqn5hNd3b6q4BF3 span.ipyplot-img-expand:hover {\n",
       "            cursor: zoom-in;\n",
       "        }\n",
       "\n",
       "        div[id^=ipyplot-content-div-UhY8oxQyqn5hNd3b6q4BF3]:target {\n",
       "            transform: scale(2.5);\n",
       "            transform-origin: left top;\n",
       "            z-index: 5000;\n",
       "            top: 0;\n",
       "            left: 0;\n",
       "            position: absolute;\n",
       "        }\n",
       "\n",
       "        div[id^=ipyplot-content-div-UhY8oxQyqn5hNd3b6q4BF3]:target span.ipyplot-img-close {\n",
       "            display: block;\n",
       "        }\n",
       "\n",
       "        div[id^=ipyplot-content-div-UhY8oxQyqn5hNd3b6q4BF3]:target span.ipyplot-img-expand {\n",
       "            display: none;\n",
       "        }\n",
       "        </style>\n",
       "    <div id=\"ipyplot-imgs-container-div-UhY8oxQyqn5hNd3b6q4BF3\">\n",
       "    <div class=\"ipyplot-placeholder-div-UhY8oxQyqn5hNd3b6q4BF3\">\n",
       "        <div id=\"ipyplot-content-div-UhY8oxQyqn5hNd3b6q4BF3-2Tfrao7eS6hjfsy7RNBdpb\" class=\"ipyplot-content-div-UhY8oxQyqn5hNd3b6q4BF3\">\n",
       "            <h4 style=\"font-size: 12px; word-wrap: break-word;\">0</h4>\n",
       "            <h4 style=\"font-size: 9px; padding-left: 10px; padding-right: 10px; width: 95%; word-wrap: break-word; white-space: normal;\">experiment_data\\lobster_grayscale_1.png</h4><img src=\"experiment_data\\lobster_grayscale_1.png\"/>\n",
       "            <a href=\"#!\">\n",
       "                <span class=\"ipyplot-img-close\"/>\n",
       "            </a>\n",
       "            <a href=\"#ipyplot-content-div-UhY8oxQyqn5hNd3b6q4BF3-2Tfrao7eS6hjfsy7RNBdpb\">\n",
       "                <span class=\"ipyplot-img-expand\"/>\n",
       "            </a>\n",
       "        </div>\n",
       "    </div>\n",
       "    \n",
       "    <div class=\"ipyplot-placeholder-div-UhY8oxQyqn5hNd3b6q4BF3\">\n",
       "        <div id=\"ipyplot-content-div-UhY8oxQyqn5hNd3b6q4BF3-A7hCYxtvLgTBHHsFs4QvPY\" class=\"ipyplot-content-div-UhY8oxQyqn5hNd3b6q4BF3\">\n",
       "            <h4 style=\"font-size: 12px; word-wrap: break-word;\">1</h4>\n",
       "            <h4 style=\"font-size: 9px; padding-left: 10px; padding-right: 10px; width: 95%; word-wrap: break-word; white-space: normal;\">experiment_data\\lobster_blue_1.png</h4><img src=\"experiment_data\\lobster_blue_1.png\"/>\n",
       "            <a href=\"#!\">\n",
       "                <span class=\"ipyplot-img-close\"/>\n",
       "            </a>\n",
       "            <a href=\"#ipyplot-content-div-UhY8oxQyqn5hNd3b6q4BF3-A7hCYxtvLgTBHHsFs4QvPY\">\n",
       "                <span class=\"ipyplot-img-expand\"/>\n",
       "            </a>\n",
       "        </div>\n",
       "    </div>\n",
       "    \n",
       "    <div class=\"ipyplot-placeholder-div-UhY8oxQyqn5hNd3b6q4BF3\">\n",
       "        <div id=\"ipyplot-content-div-UhY8oxQyqn5hNd3b6q4BF3-PCKUXXoULs9ijMJCvfJ72Q\" class=\"ipyplot-content-div-UhY8oxQyqn5hNd3b6q4BF3\">\n",
       "            <h4 style=\"font-size: 12px; word-wrap: break-word;\">2</h4>\n",
       "            <h4 style=\"font-size: 9px; padding-left: 10px; padding-right: 10px; width: 95%; word-wrap: break-word; white-space: normal;\">experiment_data\\lobster_red_1.png</h4><img src=\"experiment_data\\lobster_red_1.png\"/>\n",
       "            <a href=\"#!\">\n",
       "                <span class=\"ipyplot-img-close\"/>\n",
       "            </a>\n",
       "            <a href=\"#ipyplot-content-div-UhY8oxQyqn5hNd3b6q4BF3-PCKUXXoULs9ijMJCvfJ72Q\">\n",
       "                <span class=\"ipyplot-img-expand\"/>\n",
       "            </a>\n",
       "        </div>\n",
       "    </div>\n",
       "    </div>\n",
       "        </textarea>\n",
       "    </div>\n",
       "    "
      ],
      "text/plain": [
       "<IPython.core.display.HTML object>"
      ]
     },
     "metadata": {},
     "output_type": "display_data"
    },
    {
     "data": {
      "text/html": [
       "\n",
       "        <style>\n",
       "        #ipyplot-imgs-container-div-UhY8oxQyqn5hNd3b6q4BF3 {\n",
       "            width: 100%;\n",
       "            height: 100%;\n",
       "            margin: 0%;\n",
       "            overflow: auto;\n",
       "            position: relative;\n",
       "            overflow-y: scroll;\n",
       "        }\n",
       "\n",
       "        div.ipyplot-placeholder-div-UhY8oxQyqn5hNd3b6q4BF3 {\n",
       "            width: 250px;\n",
       "            display: inline-block;\n",
       "            margin: 3px;\n",
       "            position: relative;\n",
       "        }\n",
       "\n",
       "        div.ipyplot-content-div-UhY8oxQyqn5hNd3b6q4BF3 {\n",
       "            width: 250px;\n",
       "            background: white;\n",
       "            display: inline-block;\n",
       "            vertical-align: top;\n",
       "            text-align: center;\n",
       "            position: relative;\n",
       "            border: 2px solid #ddd;\n",
       "            top: 0;\n",
       "            left: 0;\n",
       "        }\n",
       "\n",
       "        div.ipyplot-content-div-UhY8oxQyqn5hNd3b6q4BF3 span.ipyplot-img-close {\n",
       "            display: none;\n",
       "        }\n",
       "\n",
       "        div.ipyplot-content-div-UhY8oxQyqn5hNd3b6q4BF3 span {\n",
       "            width: 100%;\n",
       "            height: 100%;\n",
       "            position: absolute;\n",
       "            top: 0;\n",
       "            left: 0;\n",
       "        }\n",
       "\n",
       "        div.ipyplot-content-div-UhY8oxQyqn5hNd3b6q4BF3 img {\n",
       "            width: 250px;\n",
       "        }\n",
       "\n",
       "        div.ipyplot-content-div-UhY8oxQyqn5hNd3b6q4BF3 span.ipyplot-img-close:hover {\n",
       "            cursor: zoom-out;\n",
       "        }\n",
       "        div.ipyplot-content-div-UhY8oxQyqn5hNd3b6q4BF3 span.ipyplot-img-expand:hover {\n",
       "            cursor: zoom-in;\n",
       "        }\n",
       "\n",
       "        div[id^=ipyplot-content-div-UhY8oxQyqn5hNd3b6q4BF3]:target {\n",
       "            transform: scale(2.5);\n",
       "            transform-origin: left top;\n",
       "            z-index: 5000;\n",
       "            top: 0;\n",
       "            left: 0;\n",
       "            position: absolute;\n",
       "        }\n",
       "\n",
       "        div[id^=ipyplot-content-div-UhY8oxQyqn5hNd3b6q4BF3]:target span.ipyplot-img-close {\n",
       "            display: block;\n",
       "        }\n",
       "\n",
       "        div[id^=ipyplot-content-div-UhY8oxQyqn5hNd3b6q4BF3]:target span.ipyplot-img-expand {\n",
       "            display: none;\n",
       "        }\n",
       "        </style>\n",
       "    <div id=\"ipyplot-imgs-container-div-UhY8oxQyqn5hNd3b6q4BF3\">\n",
       "    <div class=\"ipyplot-placeholder-div-UhY8oxQyqn5hNd3b6q4BF3\">\n",
       "        <div id=\"ipyplot-content-div-UhY8oxQyqn5hNd3b6q4BF3-2Tfrao7eS6hjfsy7RNBdpb\" class=\"ipyplot-content-div-UhY8oxQyqn5hNd3b6q4BF3\">\n",
       "            <h4 style=\"font-size: 12px; word-wrap: break-word;\">0</h4>\n",
       "            <h4 style=\"font-size: 9px; padding-left: 10px; padding-right: 10px; width: 95%; word-wrap: break-word; white-space: normal;\">experiment_data\\lobster_grayscale_1.png</h4><img src=\"experiment_data\\lobster_grayscale_1.png\"/>\n",
       "            <a href=\"#!\">\n",
       "                <span class=\"ipyplot-img-close\"/>\n",
       "            </a>\n",
       "            <a href=\"#ipyplot-content-div-UhY8oxQyqn5hNd3b6q4BF3-2Tfrao7eS6hjfsy7RNBdpb\">\n",
       "                <span class=\"ipyplot-img-expand\"/>\n",
       "            </a>\n",
       "        </div>\n",
       "    </div>\n",
       "    \n",
       "    <div class=\"ipyplot-placeholder-div-UhY8oxQyqn5hNd3b6q4BF3\">\n",
       "        <div id=\"ipyplot-content-div-UhY8oxQyqn5hNd3b6q4BF3-A7hCYxtvLgTBHHsFs4QvPY\" class=\"ipyplot-content-div-UhY8oxQyqn5hNd3b6q4BF3\">\n",
       "            <h4 style=\"font-size: 12px; word-wrap: break-word;\">1</h4>\n",
       "            <h4 style=\"font-size: 9px; padding-left: 10px; padding-right: 10px; width: 95%; word-wrap: break-word; white-space: normal;\">experiment_data\\lobster_blue_1.png</h4><img src=\"experiment_data\\lobster_blue_1.png\"/>\n",
       "            <a href=\"#!\">\n",
       "                <span class=\"ipyplot-img-close\"/>\n",
       "            </a>\n",
       "            <a href=\"#ipyplot-content-div-UhY8oxQyqn5hNd3b6q4BF3-A7hCYxtvLgTBHHsFs4QvPY\">\n",
       "                <span class=\"ipyplot-img-expand\"/>\n",
       "            </a>\n",
       "        </div>\n",
       "    </div>\n",
       "    \n",
       "    <div class=\"ipyplot-placeholder-div-UhY8oxQyqn5hNd3b6q4BF3\">\n",
       "        <div id=\"ipyplot-content-div-UhY8oxQyqn5hNd3b6q4BF3-PCKUXXoULs9ijMJCvfJ72Q\" class=\"ipyplot-content-div-UhY8oxQyqn5hNd3b6q4BF3\">\n",
       "            <h4 style=\"font-size: 12px; word-wrap: break-word;\">2</h4>\n",
       "            <h4 style=\"font-size: 9px; padding-left: 10px; padding-right: 10px; width: 95%; word-wrap: break-word; white-space: normal;\">experiment_data\\lobster_red_1.png</h4><img src=\"experiment_data\\lobster_red_1.png\"/>\n",
       "            <a href=\"#!\">\n",
       "                <span class=\"ipyplot-img-close\"/>\n",
       "            </a>\n",
       "            <a href=\"#ipyplot-content-div-UhY8oxQyqn5hNd3b6q4BF3-PCKUXXoULs9ijMJCvfJ72Q\">\n",
       "                <span class=\"ipyplot-img-expand\"/>\n",
       "            </a>\n",
       "        </div>\n",
       "    </div>\n",
       "    </div>"
      ],
      "text/plain": [
       "<IPython.core.display.HTML object>"
      ]
     },
     "metadata": {},
     "output_type": "display_data"
    }
   ],
   "source": [
    "ipyplot.plot_images(lobster_1_files, max_images=3, img_width=250)"
   ]
  },
  {
   "cell_type": "markdown",
   "id": "fb30a979bebb7eaf",
   "metadata": {
    "collapsed": false,
    "jupyter": {
     "outputs_hidden": false
    }
   },
   "source": [
    "# Lobster (Bottom)"
   ]
  },
  {
   "cell_type": "code",
   "execution_count": 11,
   "id": "21e0669616a90b48",
   "metadata": {
    "ExecuteTime": {
     "end_time": "2024-03-27T03:37:11.731136Z",
     "start_time": "2024-03-27T03:37:11.727136Z"
    },
    "collapsed": false,
    "jupyter": {
     "outputs_hidden": false
    }
   },
   "outputs": [
    {
     "data": {
      "text/html": [
       "\n",
       "    <style>\n",
       "        #ipyplot-html-viewer-toggle-aHhZ9vSuGyDAQyZM4JE4UA {\n",
       "            position: absolute;\n",
       "            top: -9999px;\n",
       "            left: -9999px;\n",
       "            visibility: hidden;\n",
       "        }\n",
       "\n",
       "        #ipyplot-html-viewer-label-aHhZ9vSuGyDAQyZM4JE4UA { \n",
       "            position: relative;\n",
       "            display: inline-block;\n",
       "            cursor: pointer;\n",
       "            color: blue;\n",
       "            text-decoration: underline;\n",
       "        }\n",
       "\n",
       "        #ipyplot-html-viewer-textarea-aHhZ9vSuGyDAQyZM4JE4UA {\n",
       "            background: lightgrey;\n",
       "            width: 100%;\n",
       "            height: 0px;\n",
       "            display: none;\n",
       "        }\n",
       "\n",
       "        #ipyplot-html-viewer-toggle-aHhZ9vSuGyDAQyZM4JE4UA:checked ~ #ipyplot-html-viewer-textarea-aHhZ9vSuGyDAQyZM4JE4UA {\n",
       "            height: 200px;\n",
       "            display: block;\n",
       "        }\n",
       "\n",
       "        #ipyplot-html-viewer-toggle-aHhZ9vSuGyDAQyZM4JE4UA:checked + #ipyplot-html-viewer-label-aHhZ9vSuGyDAQyZM4JE4UA:after {\n",
       "            content: \"hide html\";\n",
       "            position: absolute;\n",
       "            top: 0;\n",
       "            left: 0;\n",
       "            right: 0;\n",
       "            bottom: 0;\n",
       "            background: white;\n",
       "            cursor: pointer;\n",
       "            color: blue;\n",
       "            text-decoration: underline;\n",
       "        }\n",
       "    </style>\n",
       "    <div>\n",
       "        <input type=\"checkbox\" id=\"ipyplot-html-viewer-toggle-aHhZ9vSuGyDAQyZM4JE4UA\">\n",
       "        <label id=\"ipyplot-html-viewer-label-aHhZ9vSuGyDAQyZM4JE4UA\" for=\"ipyplot-html-viewer-toggle-aHhZ9vSuGyDAQyZM4JE4UA\">show html</label>\n",
       "        <textarea id=\"ipyplot-html-viewer-textarea-aHhZ9vSuGyDAQyZM4JE4UA\" readonly>\n",
       "            \n",
       "        <style>\n",
       "        #ipyplot-imgs-container-div-Bt34yKXzR2E9JC78JHMuCm {\n",
       "            width: 100%;\n",
       "            height: 100%;\n",
       "            margin: 0%;\n",
       "            overflow: auto;\n",
       "            position: relative;\n",
       "            overflow-y: scroll;\n",
       "        }\n",
       "\n",
       "        div.ipyplot-placeholder-div-Bt34yKXzR2E9JC78JHMuCm {\n",
       "            width: 250px;\n",
       "            display: inline-block;\n",
       "            margin: 3px;\n",
       "            position: relative;\n",
       "        }\n",
       "\n",
       "        div.ipyplot-content-div-Bt34yKXzR2E9JC78JHMuCm {\n",
       "            width: 250px;\n",
       "            background: white;\n",
       "            display: inline-block;\n",
       "            vertical-align: top;\n",
       "            text-align: center;\n",
       "            position: relative;\n",
       "            border: 2px solid #ddd;\n",
       "            top: 0;\n",
       "            left: 0;\n",
       "        }\n",
       "\n",
       "        div.ipyplot-content-div-Bt34yKXzR2E9JC78JHMuCm span.ipyplot-img-close {\n",
       "            display: none;\n",
       "        }\n",
       "\n",
       "        div.ipyplot-content-div-Bt34yKXzR2E9JC78JHMuCm span {\n",
       "            width: 100%;\n",
       "            height: 100%;\n",
       "            position: absolute;\n",
       "            top: 0;\n",
       "            left: 0;\n",
       "        }\n",
       "\n",
       "        div.ipyplot-content-div-Bt34yKXzR2E9JC78JHMuCm img {\n",
       "            width: 250px;\n",
       "        }\n",
       "\n",
       "        div.ipyplot-content-div-Bt34yKXzR2E9JC78JHMuCm span.ipyplot-img-close:hover {\n",
       "            cursor: zoom-out;\n",
       "        }\n",
       "        div.ipyplot-content-div-Bt34yKXzR2E9JC78JHMuCm span.ipyplot-img-expand:hover {\n",
       "            cursor: zoom-in;\n",
       "        }\n",
       "\n",
       "        div[id^=ipyplot-content-div-Bt34yKXzR2E9JC78JHMuCm]:target {\n",
       "            transform: scale(2.5);\n",
       "            transform-origin: left top;\n",
       "            z-index: 5000;\n",
       "            top: 0;\n",
       "            left: 0;\n",
       "            position: absolute;\n",
       "        }\n",
       "\n",
       "        div[id^=ipyplot-content-div-Bt34yKXzR2E9JC78JHMuCm]:target span.ipyplot-img-close {\n",
       "            display: block;\n",
       "        }\n",
       "\n",
       "        div[id^=ipyplot-content-div-Bt34yKXzR2E9JC78JHMuCm]:target span.ipyplot-img-expand {\n",
       "            display: none;\n",
       "        }\n",
       "        </style>\n",
       "    <div id=\"ipyplot-imgs-container-div-Bt34yKXzR2E9JC78JHMuCm\">\n",
       "    <div class=\"ipyplot-placeholder-div-Bt34yKXzR2E9JC78JHMuCm\">\n",
       "        <div id=\"ipyplot-content-div-Bt34yKXzR2E9JC78JHMuCm-RUU6mqLoNoXbCzaSsaEbAo\" class=\"ipyplot-content-div-Bt34yKXzR2E9JC78JHMuCm\">\n",
       "            <h4 style=\"font-size: 12px; word-wrap: break-word;\">0</h4>\n",
       "            <h4 style=\"font-size: 9px; padding-left: 10px; padding-right: 10px; width: 95%; word-wrap: break-word; white-space: normal;\">experiment_data\\lobster_grayscale_2.png</h4><img src=\"experiment_data\\lobster_grayscale_2.png\"/>\n",
       "            <a href=\"#!\">\n",
       "                <span class=\"ipyplot-img-close\"/>\n",
       "            </a>\n",
       "            <a href=\"#ipyplot-content-div-Bt34yKXzR2E9JC78JHMuCm-RUU6mqLoNoXbCzaSsaEbAo\">\n",
       "                <span class=\"ipyplot-img-expand\"/>\n",
       "            </a>\n",
       "        </div>\n",
       "    </div>\n",
       "    \n",
       "    <div class=\"ipyplot-placeholder-div-Bt34yKXzR2E9JC78JHMuCm\">\n",
       "        <div id=\"ipyplot-content-div-Bt34yKXzR2E9JC78JHMuCm-oD59paHZSboqb8E6whW6Xy\" class=\"ipyplot-content-div-Bt34yKXzR2E9JC78JHMuCm\">\n",
       "            <h4 style=\"font-size: 12px; word-wrap: break-word;\">1</h4>\n",
       "            <h4 style=\"font-size: 9px; padding-left: 10px; padding-right: 10px; width: 95%; word-wrap: break-word; white-space: normal;\">experiment_data\\lobster_blue_2.png</h4><img src=\"experiment_data\\lobster_blue_2.png\"/>\n",
       "            <a href=\"#!\">\n",
       "                <span class=\"ipyplot-img-close\"/>\n",
       "            </a>\n",
       "            <a href=\"#ipyplot-content-div-Bt34yKXzR2E9JC78JHMuCm-oD59paHZSboqb8E6whW6Xy\">\n",
       "                <span class=\"ipyplot-img-expand\"/>\n",
       "            </a>\n",
       "        </div>\n",
       "    </div>\n",
       "    \n",
       "    <div class=\"ipyplot-placeholder-div-Bt34yKXzR2E9JC78JHMuCm\">\n",
       "        <div id=\"ipyplot-content-div-Bt34yKXzR2E9JC78JHMuCm-W49i6iRjuGD8ngrrvrH96F\" class=\"ipyplot-content-div-Bt34yKXzR2E9JC78JHMuCm\">\n",
       "            <h4 style=\"font-size: 12px; word-wrap: break-word;\">2</h4>\n",
       "            <h4 style=\"font-size: 9px; padding-left: 10px; padding-right: 10px; width: 95%; word-wrap: break-word; white-space: normal;\">experiment_data\\lobster_red_2.png</h4><img src=\"experiment_data\\lobster_red_2.png\"/>\n",
       "            <a href=\"#!\">\n",
       "                <span class=\"ipyplot-img-close\"/>\n",
       "            </a>\n",
       "            <a href=\"#ipyplot-content-div-Bt34yKXzR2E9JC78JHMuCm-W49i6iRjuGD8ngrrvrH96F\">\n",
       "                <span class=\"ipyplot-img-expand\"/>\n",
       "            </a>\n",
       "        </div>\n",
       "    </div>\n",
       "    </div>\n",
       "        </textarea>\n",
       "    </div>\n",
       "    "
      ],
      "text/plain": [
       "<IPython.core.display.HTML object>"
      ]
     },
     "metadata": {},
     "output_type": "display_data"
    },
    {
     "data": {
      "text/html": [
       "\n",
       "        <style>\n",
       "        #ipyplot-imgs-container-div-Bt34yKXzR2E9JC78JHMuCm {\n",
       "            width: 100%;\n",
       "            height: 100%;\n",
       "            margin: 0%;\n",
       "            overflow: auto;\n",
       "            position: relative;\n",
       "            overflow-y: scroll;\n",
       "        }\n",
       "\n",
       "        div.ipyplot-placeholder-div-Bt34yKXzR2E9JC78JHMuCm {\n",
       "            width: 250px;\n",
       "            display: inline-block;\n",
       "            margin: 3px;\n",
       "            position: relative;\n",
       "        }\n",
       "\n",
       "        div.ipyplot-content-div-Bt34yKXzR2E9JC78JHMuCm {\n",
       "            width: 250px;\n",
       "            background: white;\n",
       "            display: inline-block;\n",
       "            vertical-align: top;\n",
       "            text-align: center;\n",
       "            position: relative;\n",
       "            border: 2px solid #ddd;\n",
       "            top: 0;\n",
       "            left: 0;\n",
       "        }\n",
       "\n",
       "        div.ipyplot-content-div-Bt34yKXzR2E9JC78JHMuCm span.ipyplot-img-close {\n",
       "            display: none;\n",
       "        }\n",
       "\n",
       "        div.ipyplot-content-div-Bt34yKXzR2E9JC78JHMuCm span {\n",
       "            width: 100%;\n",
       "            height: 100%;\n",
       "            position: absolute;\n",
       "            top: 0;\n",
       "            left: 0;\n",
       "        }\n",
       "\n",
       "        div.ipyplot-content-div-Bt34yKXzR2E9JC78JHMuCm img {\n",
       "            width: 250px;\n",
       "        }\n",
       "\n",
       "        div.ipyplot-content-div-Bt34yKXzR2E9JC78JHMuCm span.ipyplot-img-close:hover {\n",
       "            cursor: zoom-out;\n",
       "        }\n",
       "        div.ipyplot-content-div-Bt34yKXzR2E9JC78JHMuCm span.ipyplot-img-expand:hover {\n",
       "            cursor: zoom-in;\n",
       "        }\n",
       "\n",
       "        div[id^=ipyplot-content-div-Bt34yKXzR2E9JC78JHMuCm]:target {\n",
       "            transform: scale(2.5);\n",
       "            transform-origin: left top;\n",
       "            z-index: 5000;\n",
       "            top: 0;\n",
       "            left: 0;\n",
       "            position: absolute;\n",
       "        }\n",
       "\n",
       "        div[id^=ipyplot-content-div-Bt34yKXzR2E9JC78JHMuCm]:target span.ipyplot-img-close {\n",
       "            display: block;\n",
       "        }\n",
       "\n",
       "        div[id^=ipyplot-content-div-Bt34yKXzR2E9JC78JHMuCm]:target span.ipyplot-img-expand {\n",
       "            display: none;\n",
       "        }\n",
       "        </style>\n",
       "    <div id=\"ipyplot-imgs-container-div-Bt34yKXzR2E9JC78JHMuCm\">\n",
       "    <div class=\"ipyplot-placeholder-div-Bt34yKXzR2E9JC78JHMuCm\">\n",
       "        <div id=\"ipyplot-content-div-Bt34yKXzR2E9JC78JHMuCm-RUU6mqLoNoXbCzaSsaEbAo\" class=\"ipyplot-content-div-Bt34yKXzR2E9JC78JHMuCm\">\n",
       "            <h4 style=\"font-size: 12px; word-wrap: break-word;\">0</h4>\n",
       "            <h4 style=\"font-size: 9px; padding-left: 10px; padding-right: 10px; width: 95%; word-wrap: break-word; white-space: normal;\">experiment_data\\lobster_grayscale_2.png</h4><img src=\"experiment_data\\lobster_grayscale_2.png\"/>\n",
       "            <a href=\"#!\">\n",
       "                <span class=\"ipyplot-img-close\"/>\n",
       "            </a>\n",
       "            <a href=\"#ipyplot-content-div-Bt34yKXzR2E9JC78JHMuCm-RUU6mqLoNoXbCzaSsaEbAo\">\n",
       "                <span class=\"ipyplot-img-expand\"/>\n",
       "            </a>\n",
       "        </div>\n",
       "    </div>\n",
       "    \n",
       "    <div class=\"ipyplot-placeholder-div-Bt34yKXzR2E9JC78JHMuCm\">\n",
       "        <div id=\"ipyplot-content-div-Bt34yKXzR2E9JC78JHMuCm-oD59paHZSboqb8E6whW6Xy\" class=\"ipyplot-content-div-Bt34yKXzR2E9JC78JHMuCm\">\n",
       "            <h4 style=\"font-size: 12px; word-wrap: break-word;\">1</h4>\n",
       "            <h4 style=\"font-size: 9px; padding-left: 10px; padding-right: 10px; width: 95%; word-wrap: break-word; white-space: normal;\">experiment_data\\lobster_blue_2.png</h4><img src=\"experiment_data\\lobster_blue_2.png\"/>\n",
       "            <a href=\"#!\">\n",
       "                <span class=\"ipyplot-img-close\"/>\n",
       "            </a>\n",
       "            <a href=\"#ipyplot-content-div-Bt34yKXzR2E9JC78JHMuCm-oD59paHZSboqb8E6whW6Xy\">\n",
       "                <span class=\"ipyplot-img-expand\"/>\n",
       "            </a>\n",
       "        </div>\n",
       "    </div>\n",
       "    \n",
       "    <div class=\"ipyplot-placeholder-div-Bt34yKXzR2E9JC78JHMuCm\">\n",
       "        <div id=\"ipyplot-content-div-Bt34yKXzR2E9JC78JHMuCm-W49i6iRjuGD8ngrrvrH96F\" class=\"ipyplot-content-div-Bt34yKXzR2E9JC78JHMuCm\">\n",
       "            <h4 style=\"font-size: 12px; word-wrap: break-word;\">2</h4>\n",
       "            <h4 style=\"font-size: 9px; padding-left: 10px; padding-right: 10px; width: 95%; word-wrap: break-word; white-space: normal;\">experiment_data\\lobster_red_2.png</h4><img src=\"experiment_data\\lobster_red_2.png\"/>\n",
       "            <a href=\"#!\">\n",
       "                <span class=\"ipyplot-img-close\"/>\n",
       "            </a>\n",
       "            <a href=\"#ipyplot-content-div-Bt34yKXzR2E9JC78JHMuCm-W49i6iRjuGD8ngrrvrH96F\">\n",
       "                <span class=\"ipyplot-img-expand\"/>\n",
       "            </a>\n",
       "        </div>\n",
       "    </div>\n",
       "    </div>"
      ],
      "text/plain": [
       "<IPython.core.display.HTML object>"
      ]
     },
     "metadata": {},
     "output_type": "display_data"
    }
   ],
   "source": [
    "ipyplot.plot_images(lobster_2_files, max_images=3, img_width=250)"
   ]
  },
  {
   "cell_type": "code",
   "execution_count": 12,
   "id": "initial_id",
   "metadata": {
    "ExecuteTime": {
     "end_time": "2024-03-27T03:37:11.991137Z",
     "start_time": "2024-03-27T03:37:11.731136Z"
    }
   },
   "outputs": [
    {
     "name": "stdout",
     "output_type": "stream",
     "text": [
      "Image:  lobster_grayscale_0.png\n",
      "Label probs: tensor([[    0.015,     0.985,     0.000]])\n",
      "Cosine similarity: tensor([[0.226, 0.268, 0.169]])\n",
      "\n",
      "Image:  lobster_blue_0.png\n",
      "Label probs: tensor([[    0.003,     0.997,     0.000]])\n",
      "Cosine similarity: tensor([[0.232, 0.292, 0.157]])\n",
      "\n",
      "Image:  lobster_red_0.png\n",
      "Label probs: tensor([[    0.000,     1.000,     0.000]])\n",
      "Cosine similarity: tensor([[0.235, 0.319, 0.164]])\n",
      "\n"
     ]
    }
   ],
   "source": [
    "for filepath in lobster_0_files:\n",
    "    image = preprocess_b(Image.open(filepath)).unsqueeze(0)\n",
    "    with torch.no_grad(), torch.cuda.amp.autocast():\n",
    "        image_features = model_b.encode_image(image)\n",
    "        text_features = model_b.encode_text(text_b)\n",
    "        image_features /= image_features.norm(dim=-1, keepdim=True)\n",
    "        text_features /= text_features.norm(dim=-1, keepdim=True)\n",
    "        \n",
    "        dist = image_features @ text_features.T\n",
    "        cos_sim = dist / (torch.norm(image_features, dim=-1) * torch.norm(text_features, dim=-1))\n",
    "        text_probs = (100.0 * dist).softmax(dim=-1)\n",
    "    \n",
    "    print(\"Image: \", filepath.split(\"/\")[-1])\n",
    "    print(f\"Label probs: {text_probs}\")\n",
    "    print(f\"Cosine similarity: {cos_sim}\")\n",
    "    print()"
   ]
  },
  {
   "cell_type": "code",
   "execution_count": 13,
   "id": "c24356dfb22db8e",
   "metadata": {
    "ExecuteTime": {
     "end_time": "2024-03-27T03:37:12.212137Z",
     "start_time": "2024-03-27T03:37:11.992137Z"
    },
    "collapsed": false,
    "jupyter": {
     "outputs_hidden": false
    }
   },
   "outputs": [
    {
     "name": "stdout",
     "output_type": "stream",
     "text": [
      "Image:  lobster_grayscale_1.png\n",
      "Label probs: tensor([[    0.002,     0.998,     0.000]])\n",
      "Cosine similarity: tensor([[0.216, 0.280, 0.151]])\n",
      "\n",
      "Image:  lobster_blue_1.png\n",
      "Label probs: tensor([[    0.000,     1.000,     0.000]])\n",
      "Cosine similarity: tensor([[0.197, 0.288, 0.132]])\n",
      "\n",
      "Image:  lobster_red_1.png\n",
      "Label probs: tensor([[    0.000,     1.000,     0.000]])\n",
      "Cosine similarity: tensor([[0.196, 0.322, 0.136]])\n",
      "\n"
     ]
    }
   ],
   "source": [
    "for filepath in lobster_1_files:\n",
    "    image = preprocess_b(Image.open(filepath)).unsqueeze(0)\n",
    "    with torch.no_grad(), torch.cuda.amp.autocast():\n",
    "        image_features = model_b.encode_image(image)\n",
    "        text_features = model_b.encode_text(text_b)\n",
    "        image_features /= image_features.norm(dim=-1, keepdim=True)\n",
    "        text_features /= text_features.norm(dim=-1, keepdim=True)\n",
    "        \n",
    "        dist = image_features @ text_features.T\n",
    "        cos_sim = dist / (torch.norm(image_features, dim=-1) * torch.norm(text_features, dim=-1))\n",
    "        text_probs = (100.0 * dist).softmax(dim=-1)\n",
    "    \n",
    "    print(\"Image: \", filepath.split(\"/\")[-1])\n",
    "    print(f\"Label probs: {text_probs}\")\n",
    "    print(f\"Cosine similarity: {cos_sim}\")\n",
    "    print()"
   ]
  },
  {
   "cell_type": "code",
   "execution_count": 14,
   "id": "f8576599afde98f7",
   "metadata": {
    "ExecuteTime": {
     "end_time": "2024-03-27T03:37:12.553281Z",
     "start_time": "2024-03-27T03:37:12.213137Z"
    },
    "collapsed": false,
    "jupyter": {
     "outputs_hidden": false
    }
   },
   "outputs": [
    {
     "name": "stdout",
     "output_type": "stream",
     "text": [
      "Image:  lobster_grayscale_2.png\n",
      "Label probs: tensor([[    0.000,     1.000,     0.000]])\n",
      "Cosine similarity: tensor([[0.207, 0.313, 0.177]])\n",
      "\n",
      "Image:  lobster_blue_2.png\n",
      "Label probs: tensor([[    0.000,     1.000,     0.000]])\n",
      "Cosine similarity: tensor([[0.180, 0.317, 0.137]])\n",
      "\n",
      "Image:  lobster_red_2.png\n",
      "Label probs: tensor([[    0.000,     1.000,     0.000]])\n",
      "Cosine similarity: tensor([[0.198, 0.328, 0.148]])\n",
      "\n"
     ]
    }
   ],
   "source": [
    "for filepath in lobster_2_files:\n",
    "    image = preprocess_b(Image.open(filepath)).unsqueeze(0)\n",
    "    with torch.no_grad(), torch.cuda.amp.autocast():\n",
    "        image_features = model_b.encode_image(image)\n",
    "        text_features = model_b.encode_text(text_b)\n",
    "        image_features /= image_features.norm(dim=-1, keepdim=True)\n",
    "        text_features /= text_features.norm(dim=-1, keepdim=True)\n",
    "        \n",
    "        dist = image_features @ text_features.T\n",
    "        cos_sim = dist / (torch.norm(image_features, dim=-1) * torch.norm(text_features, dim=-1))\n",
    "        text_probs = (100.0 * dist).softmax(dim=-1)\n",
    "    \n",
    "    print(\"Image: \", filepath.split(\"/\")[-1])\n",
    "    print(f\"Label probs: {text_probs}\")\n",
    "    print(f\"Cosine similarity: {cos_sim}\")\n",
    "    print()"
   ]
  },
  {
   "cell_type": "markdown",
   "id": "3d9e61fc68371a3e",
   "metadata": {
    "collapsed": false,
    "jupyter": {
     "outputs_hidden": false
    }
   },
   "source": [
    "# CLIP: ViT-L-14 (Larger model)"
   ]
  },
  {
   "cell_type": "code",
   "execution_count": 15,
   "id": "706d44cd35d4eab8",
   "metadata": {
    "ExecuteTime": {
     "end_time": "2024-03-27T03:37:14.177562Z",
     "start_time": "2024-03-27T03:37:12.554281Z"
    },
    "collapsed": false,
    "jupyter": {
     "outputs_hidden": false
    }
   },
   "outputs": [
    {
     "name": "stdout",
     "output_type": "stream",
     "text": [
      "Image:  lobster_grayscale_0.png\n",
      "Label probs: tensor([[0.020, 0.968, 0.011]])\n",
      "Cosine similarity: tensor([[0.168, 0.207, 0.162]])\n",
      "\n",
      "Image:  lobster_blue_0.png\n",
      "Label probs: tensor([[0.015, 0.971, 0.014]])\n",
      "Cosine similarity: tensor([[0.153, 0.195, 0.152]])\n",
      "\n",
      "Image:  lobster_red_0.png\n",
      "Label probs: tensor([[    0.000,     1.000,     0.000]])\n",
      "Cosine similarity: tensor([[0.149, 0.237, 0.154]])\n",
      "\n"
     ]
    }
   ],
   "source": [
    "for filepath in lobster_0_files:\n",
    "    image = preprocess_l(Image.open(filepath)).unsqueeze(0)\n",
    "    with torch.no_grad(), torch.cuda.amp.autocast():\n",
    "        image_features = model_l.encode_image(image)\n",
    "        text_features = model_l.encode_text(text_b)\n",
    "        image_features /= image_features.norm(dim=-1, keepdim=True)\n",
    "        text_features /= text_features.norm(dim=-1, keepdim=True)\n",
    "        \n",
    "        dist = image_features @ text_features.T\n",
    "        cos_sim = dist / (torch.norm(image_features, dim=-1) * torch.norm(text_features, dim=-1))\n",
    "        text_probs = (100.0 * dist).softmax(dim=-1)\n",
    "    \n",
    "    print(\"Image: \", filepath.split(\"/\")[-1])\n",
    "    print(f\"Label probs: {text_probs}\")\n",
    "    print(f\"Cosine similarity: {cos_sim}\")\n",
    "    print()"
   ]
  },
  {
   "cell_type": "code",
   "execution_count": 16,
   "id": "fcbf17360a76f4c5",
   "metadata": {
    "ExecuteTime": {
     "end_time": "2024-03-27T03:37:15.703049Z",
     "start_time": "2024-03-27T03:37:14.178562Z"
    },
    "collapsed": false,
    "jupyter": {
     "outputs_hidden": false
    }
   },
   "outputs": [
    {
     "name": "stdout",
     "output_type": "stream",
     "text": [
      "Image:  lobster_grayscale_1.png\n",
      "Label probs: tensor([[0.008, 0.989, 0.002]])\n",
      "Cosine similarity: tensor([[0.160, 0.208, 0.148]])\n",
      "\n",
      "Image:  lobster_blue_1.png\n",
      "Label probs: tensor([[0.003, 0.996, 0.002]])\n",
      "Cosine similarity: tensor([[0.156, 0.215, 0.151]])\n",
      "\n",
      "Image:  lobster_red_1.png\n",
      "Label probs: tensor([[    0.000,     1.000,     0.000]])\n",
      "Cosine similarity: tensor([[0.143, 0.226, 0.140]])\n",
      "\n"
     ]
    }
   ],
   "source": [
    "for filepath in lobster_1_files:\n",
    "    image = preprocess_l(Image.open(filepath)).unsqueeze(0)\n",
    "    with torch.no_grad(), torch.cuda.amp.autocast():\n",
    "        image_features = model_l.encode_image(image)\n",
    "        text_features = model_l.encode_text(text_b)\n",
    "        image_features /= image_features.norm(dim=-1, keepdim=True)\n",
    "        text_features /= text_features.norm(dim=-1, keepdim=True)\n",
    "        \n",
    "        dist = image_features @ text_features.T\n",
    "        cos_sim = dist / (torch.norm(image_features, dim=-1) * torch.norm(text_features, dim=-1))\n",
    "        text_probs = (100.0 * dist).softmax(dim=-1)\n",
    "    \n",
    "    print(\"Image: \", filepath.split(\"/\")[-1])\n",
    "    print(f\"Label probs: {text_probs}\")\n",
    "    print(f\"Cosine similarity: {cos_sim}\")\n",
    "    print()"
   ]
  },
  {
   "cell_type": "code",
   "execution_count": 17,
   "id": "cfb088b6377cb7d1",
   "metadata": {
    "ExecuteTime": {
     "end_time": "2024-03-27T03:37:17.263237Z",
     "start_time": "2024-03-27T03:37:15.703049Z"
    },
    "collapsed": false,
    "jupyter": {
     "outputs_hidden": false
    }
   },
   "outputs": [
    {
     "name": "stdout",
     "output_type": "stream",
     "text": [
      "Image:  lobster_grayscale_2.png\n",
      "Label probs: tensor([[    0.000,     0.999,     0.000]])\n",
      "Cosine similarity: tensor([[0.161, 0.239, 0.156]])\n",
      "\n",
      "Image:  lobster_blue_2.png\n",
      "Label probs: tensor([[    0.000,     1.000,     0.000]])\n",
      "Cosine similarity: tensor([[0.139, 0.237, 0.142]])\n",
      "\n",
      "Image:  lobster_red_2.png\n",
      "Label probs: tensor([[    0.000,     1.000,     0.000]])\n",
      "Cosine similarity: tensor([[0.141, 0.250, 0.152]])\n",
      "\n"
     ]
    }
   ],
   "source": [
    "for filepath in lobster_2_files:\n",
    "    image = preprocess_l(Image.open(filepath)).unsqueeze(0)\n",
    "    with torch.no_grad(), torch.cuda.amp.autocast():\n",
    "        image_features = model_l.encode_image(image)\n",
    "        text_features = model_l.encode_text(text_b)\n",
    "        image_features /= image_features.norm(dim=-1, keepdim=True)\n",
    "        text_features /= text_features.norm(dim=-1, keepdim=True)\n",
    "        \n",
    "        dist = image_features @ text_features.T\n",
    "        cos_sim = dist / (torch.norm(image_features, dim=-1) * torch.norm(text_features, dim=-1))\n",
    "        text_probs = (100.0 * dist).softmax(dim=-1)\n",
    "    \n",
    "    print(\"Image: \", filepath.split(\"/\")[-1])\n",
    "    print(f\"Label probs: {text_probs}\")\n",
    "    print(f\"Cosine similarity: {cos_sim}\")\n",
    "    print()"
   ]
  }
 ],
 "metadata": {
  "kernelspec": {
   "display_name": "Python 3 (ipykernel)",
   "language": "python",
   "name": "python3"
  },
  "language_info": {
   "codemirror_mode": {
    "name": "ipython",
    "version": 3
   },
   "file_extension": ".py",
   "mimetype": "text/x-python",
   "name": "python",
   "nbconvert_exporter": "python",
   "pygments_lexer": "ipython3",
   "version": "3.10.14"
  }
 },
 "nbformat": 4,
 "nbformat_minor": 5
}
